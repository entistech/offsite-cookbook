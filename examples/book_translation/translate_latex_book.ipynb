{
 "cells": [
  {
   "cell_type": "markdown",
   "metadata": {
    "application/vnd.databricks.v1+cell": {
     "cellMetadata": {},
     "inputWidgets": {},
     "nuid": "a1cd4aae-c6a9-4558-a35b-6463b6f33f51",
     "showTitle": false,
     "title": ""
    }
   },
   "source": [
    "# Translate a book writen in LaTeX from Slovenian into English\n",
    "\n",
    "With permission of the author, we will demonstrate how to translate the book [Euclidean Plane Geometry](https://sites.google.com/site/projektivna/), written by Milan Mitrović from Slovenian into English, without modifying any of the LaTeX commands.\n",
    "\n",
    "To achieve this, we will first split the book into chunks, each roughly a page long, then translate each chunk into English, and finally stitch them back together."
   ]
  },
  {
   "cell_type": "markdown",
   "metadata": {
    "application/vnd.databricks.v1+cell": {
     "cellMetadata": {},
     "inputWidgets": {},
     "nuid": "73e5cf24-a7f3-4c6a-9b75-53751b689c38",
     "showTitle": false,
     "title": ""
    }
   },
   "source": [
    "## 1. Read in the data"
   ]
  },
  {
   "cell_type": "code",
   "execution_count": 0,
   "metadata": {
    "application/vnd.databricks.v1+cell": {
     "cellMetadata": {},
     "inputWidgets": {},
     "nuid": "22ca16cb-9d5c-4ad4-86b4-650ff9e6dc66",
     "showTitle": false,
     "title": ""
    }
   },
   "outputs": [],
   "source": [
    "import openai\n",
    "from transformers import GPT2Tokenizer\n",
    "\n",
    "# OpenAI GPT-2 tokenizer is the same as GPT-3 tokenizer\n",
    "# we use it to count the number of tokens in the text\n",
    "tokenizer = GPT2Tokenizer.from_pretrained(\"gpt2\")\n",
    "\n",
    "with open(\"data/geometry_slovenian.tex\", \"r\") as f:\n",
    "    text = f.read()"
   ]
  },
  {
   "cell_type": "markdown",
   "metadata": {
    "application/vnd.databricks.v1+cell": {
     "cellMetadata": {},
     "inputWidgets": {},
     "nuid": "f5fe627c-0672-43d0-ac65-a65783c85ca5",
     "showTitle": false,
     "title": ""
    }
   },
   "source": [
    "### 1.1 Count the tokens in each chunk"
   ]
  },
  {
   "cell_type": "code",
   "execution_count": 0,
   "metadata": {
    "application/vnd.databricks.v1+cell": {
     "cellMetadata": {},
     "inputWidgets": {},
     "nuid": "51abb904-c08a-490a-85c8-b9f42c78e056",
     "showTitle": false,
     "title": ""
    }
   },
   "outputs": [],
   "source": [
    "chunks = text.split('\\n\\n')\n",
    "ntokens = []\n",
    "for chunk in chunks:\n",
    "    ntokens.append(len(tokenizer.encode(chunk)))\n",
    "max(ntokens)"
   ]
  },
  {
   "cell_type": "markdown",
   "metadata": {
    "application/vnd.databricks.v1+cell": {
     "cellMetadata": {},
     "inputWidgets": {},
     "nuid": "7f59a497-89b6-4550-88af-ca5d24f5ad81",
     "showTitle": false,
     "title": ""
    }
   },
   "source": [
    "It turns out that a double newline is a good separator in this case, in order not to break the flow of the text. Also no individual chunk is larger than 1500 tokens. The model we will use is text-davinci-002, which has a limit of 4096 tokens, so we don't need to worry about breaking the chunks down further.\n",
    "\n",
    "We will group the shorter chunks into chunks of around 1000 tokens, to increase the coherence of the text, and decrease the frequency of breaks within the text."
   ]
  },
  {
   "cell_type": "code",
   "execution_count": 0,
   "metadata": {
    "application/vnd.databricks.v1+cell": {
     "cellMetadata": {},
     "inputWidgets": {},
     "nuid": "468bfa59-e100-42ae-8dd8-6e3e939f398c",
     "showTitle": false,
     "title": ""
    }
   },
   "outputs": [],
   "source": [
    "def group_chunks(chunks, ntokens, max_len=1000):\n",
    "    \"\"\"\n",
    "    Group very short chunks, to form approximately a page long chunks.\n",
    "    \"\"\"\n",
    "    batches = []\n",
    "    cur_batch = \"\"\n",
    "    cur_tokens = 0\n",
    "\n",
    "    # iterate over chunks, and group the short ones together\n",
    "    for chunk, ntoken in zip(chunks, ntokens):\n",
    "        cur_tokens += ntoken + 2  # +2 for the newlines between chunks\n",
    "\n",
    "        # if adding this chunk would exceed the max length, finalize the current batch and start a new one\n",
    "        if ntoken + cur_tokens > max_len:\n",
    "            batches.append(cur_batch)\n",
    "            cur_batch = chunk\n",
    "        else:\n",
    "            cur_batch += \"\\n\\n\" + chunk\n",
    "    batches.append(cur_batch)\n",
    "    return batches\n",
    "\n",
    "chunks = group_chunks(chunks, ntokens)\n",
    "len(chunks)"
   ]
  },
  {
   "cell_type": "markdown",
   "metadata": {
    "application/vnd.databricks.v1+cell": {
     "cellMetadata": {},
     "inputWidgets": {},
     "nuid": "d4761016-1573-405a-90f2-c93a405772ab",
     "showTitle": false,
     "title": ""
    }
   },
   "source": [
    "Notice that adding a sample untranslated and translated first command, where only the content of the chapter name needs to be translated, helps to get more consistent results.\n",
    "\n",
    "The format of the prompt sent to the model consists of:\n",
    "1. A high level instruction to translate only the text, but not commands into the desired language\n",
    "2. A sample untranslated command, where only the content of the chapter name needs to be translated\n",
    "3. The chunk of text to be translated\n",
    "4. The translated sample command from 2, which shows the model the beginning of the translation process\n",
    "\n",
    "The expected output is the translated chunk of text."
   ]
  },
  {
   "cell_type": "code",
   "execution_count": 0,
   "metadata": {
    "application/vnd.databricks.v1+cell": {
     "cellMetadata": {},
     "inputWidgets": {},
     "nuid": "45a24d5e-c05f-4e61-97ec-45ea29e3742e",
     "showTitle": false,
     "title": ""
    }
   },
   "outputs": [],
   "source": [
    "def translate_chunk(chunk, engine='text-davinci-002',\n",
    "                    dest_language='English',\n",
    "                    sample_translation=(\"\\poglavje{Osnove Geometrije} \\label{osn9Geom}\", \"\\poglavje{The basics of Geometry} \\label{osn9Geom}\")\n",
    "                    ):\n",
    "    prompt = f'''Translate only the text from the following LaTeX document into {dest_language}. Leave all LaTeX commands unchanged\n",
    "    \n",
    "\"\"\"\n",
    "{sample_translation[0]}\n",
    "{chunk}\"\"\"\n",
    "\n",
    "{sample_translation[1]}\n",
    "'''\n",
    "    response = openai.Completion.create(\n",
    "        prompt=prompt,\n",
    "        engine=engine,\n",
    "        temperature=0,\n",
    "        top_p=1,\n",
    "        max_tokens=1500,\n",
    "    )\n",
    "    result = response['choices'][0]['text'].strip()\n",
    "    result = result.replace('\"\"\"', '') # remove the double quotes, as we used them to surround the text\n",
    "    return result\n",
    "print(translate_chunk(chunks[800], engine='text-davinci-002', dest_language='English'))"
   ]
  },
  {
   "cell_type": "markdown",
   "metadata": {
    "application/vnd.databricks.v1+cell": {
     "cellMetadata": {},
     "inputWidgets": {},
     "nuid": "f41c8853-514e-4bbe-ae60-fa81dd9bba1f",
     "showTitle": false,
     "title": ""
    }
   },
   "source": [
    "We can see here that this one chunk in particular translates only the text, but leaves LaTeX commands intact.\n",
    "\n",
    "Let's now translate all the chunks in the book - this will take 2-3 hours, as we're processing requests sequentially."
   ]
  },
  {
   "cell_type": "code",
   "execution_count": 0,
   "metadata": {
    "application/vnd.databricks.v1+cell": {
     "cellMetadata": {},
     "inputWidgets": {},
     "nuid": "76ce9084-e599-468c-9fc1-a421713a6ca6",
     "showTitle": false,
     "title": ""
    }
   },
   "outputs": [],
   "source": [
    "dest_language = \"English\"\n",
    "\n",
    "translated_chunks = []\n",
    "for i, chunk in enumerate(chunks):\n",
    "    print(str(i+1) + \" / \" + str(len(chunks)))\n",
    "    # translate each chunk\n",
    "    translated_chunks.append(translate_chunk(chunk, engine='text-davinci-002', dest_language=dest_language))\n",
    "\n",
    "# join the chunks together\n",
    "result = '\\n\\n'.join(translated_chunks)\n",
    "\n",
    "# save the final result\n",
    "with open(f\"data/geometry_{dest_language}.tex\", \"w\") as f:\n",
    "    f.write(result)"
   ]
  }
 ],
 "metadata": {
  "application/vnd.databricks.v1+notebook": {
   "dashboards": [],
   "language": "python",
   "notebookMetadata": {},
   "notebookName": "translate_latex_book",
   "notebookOrigID": 1572001650642043,
   "widgets": {}
  },
  "interpreter": {
   "hash": "aee8b7b246df8f9039afb4144a1f6fd8d2ca17a180786b69acc140d282b71a49"
  },
  "kernelspec": {
   "display_name": "Python 3.9.10 64-bit",
   "language": "python",
   "name": "python3"
  },
  "language_info": {
   "codemirror_mode": {
    "name": "ipython",
    "version": 3
   },
   "file_extension": ".py",
   "mimetype": "text/x-python",
   "name": "python",
   "nbconvert_exporter": "python",
   "pygments_lexer": "ipython3",
   "version": "3.9.10"
  },
  "orig_nbformat": 4
 },
 "nbformat": 4,
 "nbformat_minor": 0
}
