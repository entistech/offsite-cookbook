{
 "cells": [
  {
   "cell_type": "markdown",
   "metadata": {
    "application/vnd.databricks.v1+cell": {
     "cellMetadata": {},
     "inputWidgets": {},
     "nuid": "e032b255-9b2b-45ad-9041-edae40fd8dd0",
     "showTitle": false,
     "title": ""
    }
   },
   "source": [
    "# Visualizing embeddings in 3D"
   ]
  },
  {
   "cell_type": "markdown",
   "metadata": {
    "application/vnd.databricks.v1+cell": {
     "cellMetadata": {},
     "inputWidgets": {},
     "nuid": "969906f0-80b1-455b-859e-8f1eb10d2bde",
     "showTitle": false,
     "title": ""
    }
   },
   "source": [
    "The example uses [PCA](https://scikit-learn.org/stable/modules/generated/sklearn.decomposition.PCA.html) to reduce the dimensionality fo the embeddings from 1536 to 3. Then we can visualize the data points in a 3D plot. The small dataset `dbpedia_samples.jsonl` is curated by randomly sampling 200 samples from [DBpedia validation dataset](https://www.kaggle.com/danofer/dbpedia-classes?select=DBPEDIA_val.csv)."
   ]
  },
  {
   "cell_type": "markdown",
   "metadata": {
    "application/vnd.databricks.v1+cell": {
     "cellMetadata": {},
     "inputWidgets": {},
     "nuid": "b449d3ca-ee8d-4189-af94-bdd74e8d6dc4",
     "showTitle": false,
     "title": ""
    }
   },
   "source": [
    "### 1. Load the dataset and query embeddings"
   ]
  },
  {
   "cell_type": "code",
   "execution_count": 0,
   "metadata": {
    "application/vnd.databricks.v1+cell": {
     "cellMetadata": {},
     "inputWidgets": {},
     "nuid": "83ffb78b-7f90-44c1-99aa-8a1239f315d7",
     "showTitle": false,
     "title": ""
    }
   },
   "outputs": [],
   "source": [
    "import pandas as pd\n",
    "samples = pd.read_json(\"data/dbpedia_samples.jsonl\", lines=True)\n",
    "categories = sorted(samples[\"category\"].unique())\n",
    "print(\"Categories of DBpedia samples:\", samples[\"category\"].value_counts())\n",
    "samples.head()"
   ]
  },
  {
   "cell_type": "code",
   "execution_count": 0,
   "metadata": {
    "application/vnd.databricks.v1+cell": {
     "cellMetadata": {},
     "inputWidgets": {},
     "nuid": "da95e918-da4a-41f8-a66b-4544def6184e",
     "showTitle": false,
     "title": ""
    }
   },
   "outputs": [],
   "source": [
    "from openai.embeddings_utils import get_embeddings\n",
    "# NOTE: The following code will send a query of batch size 200 to /embeddings\n",
    "matrix = get_embeddings(samples[\"text\"].to_list(), engine=\"text-embedding-ada-002\")"
   ]
  },
  {
   "cell_type": "markdown",
   "metadata": {
    "application/vnd.databricks.v1+cell": {
     "cellMetadata": {},
     "inputWidgets": {},
     "nuid": "b6c86a36-60ae-4391-b492-2204c46a9be7",
     "showTitle": false,
     "title": ""
    }
   },
   "source": [
    "### 2. Reduce the embedding dimensionality"
   ]
  },
  {
   "cell_type": "code",
   "execution_count": 0,
   "metadata": {
    "application/vnd.databricks.v1+cell": {
     "cellMetadata": {},
     "inputWidgets": {},
     "nuid": "a1e473a4-22fa-493b-a61f-1d13b2e89b0b",
     "showTitle": false,
     "title": ""
    }
   },
   "outputs": [],
   "source": [
    "from sklearn.decomposition import PCA\n",
    "pca = PCA(n_components=3)\n",
    "vis_dims = pca.fit_transform(matrix)\n",
    "samples[\"embed_vis\"] = vis_dims.tolist()"
   ]
  },
  {
   "cell_type": "markdown",
   "metadata": {
    "application/vnd.databricks.v1+cell": {
     "cellMetadata": {},
     "inputWidgets": {},
     "nuid": "694a7c31-a055-487a-8c74-30eff1a3e265",
     "showTitle": false,
     "title": ""
    }
   },
   "source": [
    "### 3. Plot the embeddings of lower dimensionality"
   ]
  },
  {
   "cell_type": "code",
   "execution_count": 0,
   "metadata": {
    "application/vnd.databricks.v1+cell": {
     "cellMetadata": {},
     "inputWidgets": {},
     "nuid": "84337422-5488-4c0a-a288-3ac3e6e4d3b9",
     "showTitle": false,
     "title": ""
    }
   },
   "outputs": [],
   "source": [
    "%matplotlib widget\n",
    "import matplotlib.pyplot as plt\n",
    "import numpy as np\n",
    "\n",
    "fig = plt.figure(figsize=(10, 5))\n",
    "ax = fig.add_subplot(projection='3d')\n",
    "cmap = plt.get_cmap(\"tab20\")\n",
    "\n",
    "# Plot each sample category individually such that we can set label name.\n",
    "for i, cat in enumerate(categories):\n",
    "    sub_matrix = np.array(samples[samples[\"category\"] == cat][\"embed_vis\"].to_list())\n",
    "    x=sub_matrix[:, 0]\n",
    "    y=sub_matrix[:, 1]\n",
    "    z=sub_matrix[:, 2]\n",
    "    colors = [cmap(i/len(categories))] * len(sub_matrix)\n",
    "    ax.scatter(x, y, zs=z, zdir='z', c=colors, label=cat)\n",
    "\n",
    "ax.set_xlabel('x')\n",
    "ax.set_ylabel('y')\n",
    "ax.set_zlabel('z')\n",
    "ax.legend(bbox_to_anchor=(1.1, 1))"
   ]
  }
 ],
 "metadata": {
  "application/vnd.databricks.v1+notebook": {
   "dashboards": [],
   "language": "python",
   "notebookMetadata": {},
   "notebookName": "Visualizing_embeddings_in_3D",
   "notebookOrigID": 1572001650641915,
   "widgets": {}
  },
  "kernelspec": {
   "display_name": "Python 3.9.9 ('openai')",
   "language": "python",
   "name": "python3"
  },
  "language_info": {
   "codemirror_mode": {
    "name": "ipython",
    "version": 3
   },
   "file_extension": ".py",
   "mimetype": "text/x-python",
   "name": "python",
   "nbconvert_exporter": "python",
   "pygments_lexer": "ipython3",
   "version": "3.9.9"
  },
  "vscode": {
   "interpreter": {
    "hash": "365536dcbde60510dc9073d6b991cd35db2d9bac356a11f5b64279a5e6708b97"
   }
  }
 },
 "nbformat": 4,
 "nbformat_minor": 0
}
