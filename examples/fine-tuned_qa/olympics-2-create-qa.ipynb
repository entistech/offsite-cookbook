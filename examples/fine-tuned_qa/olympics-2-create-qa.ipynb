{
 "cells": [
  {
   "cell_type": "markdown",
   "metadata": {
    "application/vnd.databricks.v1+cell": {
     "cellMetadata": {},
     "inputWidgets": {},
     "nuid": "28271090-f992-46fd-aae4-944d75c48fcd",
     "showTitle": false,
     "title": ""
    }
   },
   "source": [
    "<span style=\"color:orange; font-weight:bold\">Note: To answer questions based on text documents, we recommend the procedure in <a href=\"https://github.com/openai/openai-cookbook/blob/main/examples/Question_answering_using_embeddings.ipynb\">Question Answering using Embeddings</a>. Some of the code below may rely on <a href=\"https://github.com/openai/openai-cookbook/tree/main/transition_guides_for_deprecated_API_endpoints\">deprecated API endpoints</a>.</span>"
   ]
  },
  {
   "cell_type": "markdown",
   "metadata": {
    "application/vnd.databricks.v1+cell": {
     "cellMetadata": {},
     "inputWidgets": {},
     "nuid": "23170dd4-49f9-4e6a-b78a-8c8c5f0f0018",
     "showTitle": false,
     "title": ""
    }
   },
   "source": [
    "# 2. Creating a synthetic Q&A dataset\n",
    "We use [`davinci-instruct-beta-v3`](https://beta.openai.com/docs/engines/instruct-series-beta), a model specialized in following instructions, to create questions based on the given context. Then we also use [`davinci-instruct-beta-v3`](https://beta.openai.com/docs/engines/instruct-series-beta) to answer those questions, given the same context. \n",
    "\n",
    "This is expensive, and will also take a long time, as we call the davinci engine for each section. You can simply download the final dataset instead.\n",
    "\n",
    "We're using the dataset created using the [previous notebook](olympics-1-collect-data.ipynb)"
   ]
  },
  {
   "cell_type": "markdown",
   "metadata": {
    "application/vnd.databricks.v1+cell": {
     "cellMetadata": {},
     "inputWidgets": {},
     "nuid": "0a32c727-cddc-4e39-8962-b0a56bb5c676",
     "showTitle": false,
     "title": ""
    }
   },
   "source": [
    "## 2.1 Read in the data, and create a context\n",
    "Create a context by concatenating the title, the heading and the content of that section"
   ]
  },
  {
   "cell_type": "code",
   "execution_count": 0,
   "metadata": {
    "application/vnd.databricks.v1+cell": {
     "cellMetadata": {},
     "inputWidgets": {},
     "nuid": "47d525ee-130b-495d-9fc6-6c906ca2e294",
     "showTitle": false,
     "title": ""
    }
   },
   "outputs": [],
   "source": [
    "import pandas as pd\n",
    "df = pd.read_csv('olympics-data/olympics_sections.csv')\n",
    "df['context'] = df.title + \"\\n\" + df.heading + \"\\n\\n\" + df.content\n",
    "df.head()"
   ]
  },
  {
   "cell_type": "markdown",
   "metadata": {
    "application/vnd.databricks.v1+cell": {
     "cellMetadata": {},
     "inputWidgets": {},
     "nuid": "f4af185e-4648-4e40-8500-9f811139e326",
     "showTitle": false,
     "title": ""
    }
   },
   "source": [
    "## 2.2 Create questions based on the context\n",
    "Use davinci-instruct to generate a number of plausible questions relating to the Wikipedia section contents.\n",
    "\n",
    "Note: We have used temperature=0, but it may be beneficial to experiment with a higher temperature to get a higher diversity of questions.\n",
    "\n",
    "<span style=\"color:orange; font-weight:bold\">WARNING: This step will last a long time, and consume a lot of tokens, as it calls davinci-instruct for every section to generate a number of questions.</span>"
   ]
  },
  {
   "cell_type": "code",
   "execution_count": 0,
   "metadata": {
    "application/vnd.databricks.v1+cell": {
     "cellMetadata": {},
     "inputWidgets": {},
     "nuid": "09a3ed91-123c-4532-982f-1defe790f37b",
     "showTitle": false,
     "title": ""
    }
   },
   "outputs": [],
   "source": [
    "import openai\n",
    "\n",
    "def get_questions(context):\n",
    "    try:\n",
    "        response = openai.Completion.create(\n",
    "            engine=\"davinci-instruct-beta-v3\",\n",
    "            prompt=f\"Write questions based on the text below\\n\\nText: {context}\\n\\nQuestions:\\n1.\",\n",
    "            temperature=0,\n",
    "            max_tokens=257,\n",
    "            top_p=1,\n",
    "            frequency_penalty=0,\n",
    "            presence_penalty=0,\n",
    "            stop=[\"\\n\\n\"]\n",
    "        )\n",
    "        return response['choices'][0]['text']\n",
    "    except:\n",
    "        return \"\"\n",
    "\n",
    "\n",
    "df['questions']= df.context.apply(get_questions)\n",
    "df['questions'] = \"1.\" + df.questions\n",
    "print(df[['questions']].values[0][0])"
   ]
  },
  {
   "cell_type": "markdown",
   "metadata": {
    "application/vnd.databricks.v1+cell": {
     "cellMetadata": {},
     "inputWidgets": {},
     "nuid": "12b845d9-882b-4a37-a948-02b2dca27ae6",
     "showTitle": false,
     "title": ""
    }
   },
   "source": [
    "The prompt is designed to generate a number of questions. Example questions above were generated based on the summary section of the 2020 Summer Olympics page.\n",
    "\n",
    "We can observe that the questions 3 and 5 above repeat. Sometimes the generated questions could be ambiguous without the context. We will show that even despite these limitations we can create a successful model."
   ]
  },
  {
   "cell_type": "code",
   "execution_count": 0,
   "metadata": {
    "application/vnd.databricks.v1+cell": {
     "cellMetadata": {},
     "inputWidgets": {},
     "nuid": "0aa3c338-da8d-4c16-94bb-41ee89e94627",
     "showTitle": false,
     "title": ""
    }
   },
   "outputs": [],
   "source": [
    "print(df.content.values[0])"
   ]
  },
  {
   "cell_type": "markdown",
   "metadata": {
    "application/vnd.databricks.v1+cell": {
     "cellMetadata": {},
     "inputWidgets": {},
     "nuid": "ad419aff-e342-4a44-8ba7-8a34168eff47",
     "showTitle": false,
     "title": ""
    }
   },
   "source": [
    "## 2.3 Create answers based on the context\n",
    "Use davinci-instruct to answer the questions given the relevant Wikipedia section contents\n",
    "\n",
    "Note: We have used temperature=0, but it may be beneficial to experiment with a higher temperature to get a higher diversity of questions.\n",
    "\n",
    "<span style=\"color:orange\">**WARNING: This step will last a long time, and consume a lot of tokens, as it calls davinci-instruct for every section to answer all the questions.**</span>"
   ]
  },
  {
   "cell_type": "code",
   "execution_count": 0,
   "metadata": {
    "application/vnd.databricks.v1+cell": {
     "cellMetadata": {},
     "inputWidgets": {},
     "nuid": "18f4f726-02c3-4835-ac08-4ec36b101f2f",
     "showTitle": false,
     "title": ""
    }
   },
   "outputs": [],
   "source": [
    "def get_answers(row):\n",
    "    try:\n",
    "        response = openai.Completion.create(\n",
    "            engine=\"davinci-instruct-beta-v3\",\n",
    "            prompt=f\"Write answer based on the text below\\n\\nText: {row.context}\\n\\nQuestions:\\n{row.questions}\\n\\nAnswers:\\n1.\",\n",
    "            temperature=0,\n",
    "            max_tokens=257,\n",
    "            top_p=1,\n",
    "            frequency_penalty=0,\n",
    "            presence_penalty=0\n",
    "        )\n",
    "        return response['choices'][0]['text']\n",
    "    except Exception as e:\n",
    "        print (e)\n",
    "        return \"\"\n",
    "\n",
    "\n",
    "df['answers']= df.apply(get_answers, axis=1)\n",
    "df['answers'] = \"1.\" + df.answers\n",
    "df = df.dropna().reset_index().drop('index',axis=1)\n",
    "print(df[['answers']].values[0][0])"
   ]
  },
  {
   "cell_type": "markdown",
   "metadata": {
    "application/vnd.databricks.v1+cell": {
     "cellMetadata": {},
     "inputWidgets": {},
     "nuid": "9dba9649-1660-4e68-aa81-ae13b7f14f88",
     "showTitle": false,
     "title": ""
    }
   },
   "source": [
    "These are the answers to the questions above based on the context around the host city selection. \n",
    "\n",
    "We can see that answers 3-5 contain the correct answer, but instead of answering the question directly, the answer is a verbatim extraction. Despite these occasional lower quality answers, we will show that the model can learn the task reasonably well, given a high number of examples."
   ]
  },
  {
   "cell_type": "markdown",
   "metadata": {
    "application/vnd.databricks.v1+cell": {
     "cellMetadata": {},
     "inputWidgets": {},
     "nuid": "69b33fa0-78b2-4658-ae3e-0e5b487b20fb",
     "showTitle": false,
     "title": ""
    }
   },
   "source": [
    "## 2.4 Save the Olympics Q&A dataset based on Wikipedia sections\n",
    "We save the file for use in the [next notebook](olympics-3-train-qa.ipynb)"
   ]
  },
  {
   "cell_type": "code",
   "execution_count": 0,
   "metadata": {
    "application/vnd.databricks.v1+cell": {
     "cellMetadata": {},
     "inputWidgets": {},
     "nuid": "4fac79a4-1d57-44c4-8746-37fec1648310",
     "showTitle": false,
     "title": ""
    }
   },
   "outputs": [],
   "source": [
    "df.to_csv('olympics-data/olympics_qa.csv', index=False)"
   ]
  },
  {
   "cell_type": "markdown",
   "metadata": {
    "application/vnd.databricks.v1+cell": {
     "cellMetadata": {},
     "inputWidgets": {},
     "nuid": "fd4d94a8-b58d-4237-b560-69599ecdae2a",
     "showTitle": false,
     "title": ""
    }
   },
   "source": [
    "## 2.5 Search file (DEPRECATED)\n",
    "We create a search file ([API reference](https://beta.openai.com/docs/api-reference/files/list)), which can be used to retrieve the relevant context when a question is asked.\n",
    "\n",
    "<span style=\"color:orange; font-weight:bold\">DEPRECATED: The /search endpoint is deprecated in favour of using embeddings. Embeddings are cheaper, faster and can support a better search experience. See <a href=\"https://github.com/openai/openai-cookbook/blob/main/examples/Question_answering_using_embeddings.ipynb\">Question Answering Guide</a> for a search implementation using the embeddings</span>"
   ]
  },
  {
   "cell_type": "code",
   "execution_count": 0,
   "metadata": {
    "application/vnd.databricks.v1+cell": {
     "cellMetadata": {},
     "inputWidgets": {},
     "nuid": "d0d81fa5-4659-48de-ba72-558a0d86be31",
     "showTitle": false,
     "title": ""
    }
   },
   "outputs": [],
   "source": [
    "df = df[df.tokens<2000]\n",
    "df[['context', 'tokens']].rename(columns={'context':'text','tokens':'metadata'}).to_json('olympics-data/olympics_search.jsonl', orient='records', lines=True)\n",
    "\n",
    "search_file = openai.File.create(\n",
    "  file=open(\"olympics-data/olympics_search.jsonl\"),\n",
    "  purpose='search'\n",
    ")\n",
    "olympics_search_fileid = search_file['id']"
   ]
  },
  {
   "cell_type": "markdown",
   "metadata": {
    "application/vnd.databricks.v1+cell": {
     "cellMetadata": {},
     "inputWidgets": {},
     "nuid": "dd1c244c-2d77-4645-9520-d094ac040ba5",
     "showTitle": false,
     "title": ""
    }
   },
   "source": [
    "## 2.6 Answer questions based on the context provided\n",
    "\n",
    "We will use a simple implementation of the answers endpoint. This works by simply using the [/search endpoint](https://beta.openai.com/docs/api-reference/searches), which searches over an indexed file to obtain the relevant sections which can be included in the context, following by a question and answering prompt given a specified model."
   ]
  },
  {
   "cell_type": "code",
   "execution_count": 0,
   "metadata": {
    "application/vnd.databricks.v1+cell": {
     "cellMetadata": {},
     "inputWidgets": {},
     "nuid": "ec7b2ab0-82e8-41d1-899b-0fc656042f56",
     "showTitle": false,
     "title": ""
    }
   },
   "outputs": [],
   "source": [
    "from answers_with_ft import create_context, answer_question\n",
    "print(create_context(\"Where did women's 4 x 100 metres relay event take place during the 2020 Summer Olympics?\", olympics_search_fileid, max_len=400))"
   ]
  },
  {
   "cell_type": "code",
   "execution_count": 0,
   "metadata": {
    "application/vnd.databricks.v1+cell": {
     "cellMetadata": {},
     "inputWidgets": {},
     "nuid": "a83c461b-c49a-4f19-9a27-f18caed58ea2",
     "showTitle": false,
     "title": ""
    }
   },
   "outputs": [],
   "source": [
    "answer_question(olympics_search_fileid, \"davinci-instruct-beta-v3\", \n",
    "            \"Where did women's 4 x 100 metres relay event take place during the 2020 Summer Olympics?\")"
   ]
  },
  {
   "cell_type": "markdown",
   "metadata": {
    "application/vnd.databricks.v1+cell": {
     "cellMetadata": {},
     "inputWidgets": {},
     "nuid": "5a8b13b0-68ee-404f-b007-5ef33c8c5b5c",
     "showTitle": false,
     "title": ""
    }
   },
   "source": [
    "After we fine-tune the model for Q&A we'll be able to use it instead of [`davinci-instruct-beta-v3`](https://beta.openai.com/docs/engines/instruct-series-beta), to obtain better answers when the question can't be answered based on the context. We see a downside of [`davinci-instruct-beta-v3`](https://beta.openai.com/docs/engines/instruct-series-beta), which always attempts to answer the question, regardless of the relevant context being present or not. (Note the second question is asking about a future event, set in 2024.)"
   ]
  },
  {
   "cell_type": "code",
   "execution_count": 0,
   "metadata": {
    "application/vnd.databricks.v1+cell": {
     "cellMetadata": {},
     "inputWidgets": {},
     "nuid": "2bf1a9d7-09aa-4ab8-8746-c78116c31e5a",
     "showTitle": false,
     "title": ""
    }
   },
   "outputs": [],
   "source": [
    "answer_question(olympics_search_fileid, \"davinci-instruct-beta-v3\", \n",
    "            \"Where did women's 4 x 100 metres relay event take place during the 2048 Summer Olympics?\", max_len=1000)"
   ]
  },
  {
   "cell_type": "markdown",
   "metadata": {
    "application/vnd.databricks.v1+cell": {
     "cellMetadata": {},
     "inputWidgets": {},
     "nuid": "cf3e6f61-d7e9-478b-a8aa-6807997e11a4",
     "showTitle": false,
     "title": ""
    }
   },
   "source": [
    "We can see that davinci has a tendency to answer the question, even if the question can't be answered given the context provided. Note the question asked regarding 2048 Summer Olympics, which didn't happen yet, and the retrieved content has only returned results for 2020."
   ]
  },
  {
   "cell_type": "markdown",
   "metadata": {
    "application/vnd.databricks.v1+cell": {
     "cellMetadata": {},
     "inputWidgets": {},
     "nuid": "9b55a6b4-5ae4-4d31-8997-592a04032696",
     "showTitle": false,
     "title": ""
    }
   },
   "source": [
    "## 2.7 (Optional) Investigation into how likely the search endpoint is to return the relevant context"
   ]
  },
  {
   "cell_type": "code",
   "execution_count": 0,
   "metadata": {
    "application/vnd.databricks.v1+cell": {
     "cellMetadata": {},
     "inputWidgets": {},
     "nuid": "23559ded-335d-4504-955a-0a81da430e98",
     "showTitle": false,
     "title": ""
    }
   },
   "outputs": [],
   "source": [
    "def check_context(title, heading, question, max_len=1800, search_model='ada', max_rerank=10):\n",
    "    \"\"\"\n",
    "    Evaluate the performance of the search model in retrieving the correct context\n",
    "\n",
    "    Parameters\n",
    "    ----------\n",
    "    title: str\n",
    "        The title of the Wikipedia page\n",
    "    heading: str\n",
    "        The heading of the Wikipedia section\n",
    "    qusetion: str\n",
    "        The question\n",
    "    max_len: int\n",
    "        The maximum length of the context\n",
    "    search_model: str\n",
    "        The search model to use - `ada` is most cost effective\n",
    "    max_rerank: int\n",
    "        The maximum number of reranking documents to use the search model on\n",
    "\n",
    "    Returns\n",
    "    -------\n",
    "    rank: int\n",
    "        The rank of the correct context\n",
    "    token_length: int\n",
    "        The number of tokens needed to obtain the correct context\n",
    "    \"\"\"\n",
    "    \n",
    "    try:\n",
    "        results = openai.Engine(search_model).search(\n",
    "            search_model=search_model, \n",
    "            query=question, \n",
    "            max_rerank=max_rerank,\n",
    "            file=olympics_search_fileid,\n",
    "            return_metadata=True\n",
    "        )\n",
    "        index=-1\n",
    "        returns = []\n",
    "        cur_len = 0\n",
    "        for result in results['data']:\n",
    "            cur_len += int(result['metadata']) + 4 # we add 4 tokens for the separator `\\n\\n###\\n\\n`\n",
    "            if cur_len > max_len:\n",
    "                break\n",
    "            returns.append(result['text'])\n",
    "            res = result['text'].split('\\n')\n",
    "            if res[0] == title and res[1] == heading:\n",
    "                index = len(returns) - 1\n",
    "                break\n",
    "        return index, cur_len\n",
    "    except Exception as e:\n",
    "        #print (e)\n",
    "        return []\n",
    "print(check_context(\"Athletics at the 2020 Summer Olympics – Women's 4 × 100 metres relay\", \"Summary\", \"Where did women's 4 x 100 metres relay event take place during the 2020 Summer Olympics?\", max_len=10000))"
   ]
  },
  {
   "cell_type": "markdown",
   "metadata": {
    "application/vnd.databricks.v1+cell": {
     "cellMetadata": {},
     "inputWidgets": {},
     "nuid": "4130d8e0-3cb2-4b1d-ad4b-bf40fc107754",
     "showTitle": false,
     "title": ""
    }
   },
   "source": [
    "We utilize the generated questions based on context to estimate how often we can retrieve the original context. These questions are noisy, so this is not a perfect estimate.\n",
    "\n",
    "Our questions and answers are prefixed with numbered bullet points, however due to the way they were generated, they are missing the first number, hence we add \"1.\" to the list of questions (and answers).\n",
    "\n",
    "We calculate the rank of the section retrieved using ada search, and the number of tokens in the context needed to retrieve the relevant section in full."
   ]
  },
  {
   "cell_type": "code",
   "execution_count": 0,
   "metadata": {
    "application/vnd.databricks.v1+cell": {
     "cellMetadata": {},
     "inputWidgets": {},
     "nuid": "e3f35a5f-fcbd-4f9a-a267-d2649ddf718a",
     "showTitle": false,
     "title": ""
    }
   },
   "outputs": [],
   "source": [
    "ada_results = df.apply(lambda x: [\n",
    "                    check_context( x.title, \n",
    "                                   x.heading, \n",
    "                                   q[3:],     # remove the number prefix\n",
    "                                   max_len=1000000, # set a large number to get the full context \n",
    "                                   search_model='ada', \n",
    "                                   max_rerank=200,\n",
    "                                 ) \n",
    "                    for q in (x.questions).split('\\n') # split the questions\n",
    "                    if len(q) >10 # remove the empty questions\n",
    "                ], axis=1)\n",
    "ada_results.head()"
   ]
  },
  {
   "cell_type": "code",
   "execution_count": 0,
   "metadata": {
    "application/vnd.databricks.v1+cell": {
     "cellMetadata": {},
     "inputWidgets": {},
     "nuid": "5314962c-6244-4b78-8df3-d67447efd287",
     "showTitle": false,
     "title": ""
    }
   },
   "outputs": [],
   "source": [
    "out = pd.concat([ada_results], axis=1)\n",
    "out.columns = ['ada']\n",
    "out.to_csv('olympics-data/search_engine_results.csv')"
   ]
  },
  {
   "cell_type": "code",
   "execution_count": 0,
   "metadata": {
    "application/vnd.databricks.v1+cell": {
     "cellMetadata": {},
     "inputWidgets": {},
     "nuid": "dadb8298-2ec9-41bc-b65a-78b27853b2d6",
     "showTitle": false,
     "title": ""
    }
   },
   "outputs": [],
   "source": [
    "def expand_lists(out):\n",
    "    \"\"\"\n",
    "    Expand a pandas series containing lists into a series, where each list element becomes a value on its own\n",
    "\n",
    "    Input is a row per paragraph, which has multiple questions\n",
    "    Output is a row per question\n",
    "    \"\"\"\n",
    "    cols = [pd.DataFrame(out[name].tolist()).stack().reset_index(level=1, drop=True).rename(name) for name in out.columns] \n",
    "    return pd.concat(cols, axis=1)\n",
    "\n",
    "out_expanded = expand_lists(out)\n",
    "out_expanded['rank'] = out_expanded.ada.apply(lambda x: x[0] if x != [] else -2)\n",
    "out_expanded['tokens'] = out_expanded.ada.apply(lambda x: x[1] if x != [] else -2)\n"
   ]
  },
  {
   "cell_type": "code",
   "execution_count": 0,
   "metadata": {
    "application/vnd.databricks.v1+cell": {
     "cellMetadata": {},
     "inputWidgets": {},
     "nuid": "ecbde441-29d7-4af4-9705-0d1538d014e5",
     "showTitle": false,
     "title": ""
    }
   },
   "outputs": [],
   "source": [
    "within_2k = (out_expanded.tokens < 2000).mean()\n",
    "print(f\"{within_2k*100:.1f}% of relevant paragraphs are retrieved within the first 2k tokens\")"
   ]
  },
  {
   "cell_type": "markdown",
   "metadata": {
    "application/vnd.databricks.v1+cell": {
     "cellMetadata": {},
     "inputWidgets": {},
     "nuid": "216b45b9-8c18-4402-9c63-20d984e6e14a",
     "showTitle": false,
     "title": ""
    }
   },
   "source": [
    "The relevant context can be obtained 74% of the time on this dataset"
   ]
  },
  {
   "cell_type": "code",
   "execution_count": 0,
   "metadata": {
    "application/vnd.databricks.v1+cell": {
     "cellMetadata": {},
     "inputWidgets": {},
     "nuid": "3786b056-bd56-4110-a145-b07b495db5fc",
     "showTitle": false,
     "title": ""
    }
   },
   "outputs": [],
   "source": [
    "outside_200 = (out_expanded['rank'] == -1).mean()\n",
    "print(f\"{outside_200*100:.1f}% of relevant paragraphs are not retrieved within the first 200 results\")"
   ]
  },
  {
   "cell_type": "markdown",
   "metadata": {
    "application/vnd.databricks.v1+cell": {
     "cellMetadata": {},
     "inputWidgets": {},
     "nuid": "84530e54-4b74-427d-8016-7de78e3c4bae",
     "showTitle": false,
     "title": ""
    }
   },
   "source": [
    "7.4% of the time, this is due to the keyword search part of the search algorithm not retrieving the relevant context within the first 200 results.\n",
    "18.3% of the time this is due to the semantic search not placing the relevant context within the first 2000 tokens."
   ]
  },
  {
   "cell_type": "code",
   "execution_count": 0,
   "metadata": {
    "application/vnd.databricks.v1+cell": {
     "cellMetadata": {},
     "inputWidgets": {},
     "nuid": "60040331-90e2-41da-b868-6e8af1f991c8",
     "showTitle": false,
     "title": ""
    }
   },
   "outputs": [],
   "source": [
    "import matplotlib.pyplot as plt\n",
    "\n",
    "# plot a histogram, and add axis descriptions and title\n",
    "out_expanded[(out_expanded['rank'] >=0)&(out_expanded['rank'] <30)]['rank'].hist(bins=29)\n",
    "plt.xlabel('rank')\n",
    "plt.ylabel('count')\n",
    "plt.title('Histogram of ranks of retrieved paragraphs')\n",
    "plt.show()"
   ]
  },
  {
   "cell_type": "code",
   "execution_count": 0,
   "metadata": {
    "application/vnd.databricks.v1+cell": {
     "cellMetadata": {},
     "inputWidgets": {},
     "nuid": "a7936409-972e-4630-a49e-9fe200275bb5",
     "showTitle": false,
     "title": ""
    }
   },
   "outputs": [],
   "source": [
    "out_expanded[(out_expanded.tokens>=0)&(out_expanded.tokens < 2000)]['tokens'].hist(bins=29)\n",
    "plt.xlabel('tokens')\n",
    "plt.ylabel('count')\n",
    "plt.title('Histogram of the number of minimum tokens needed')\n",
    "plt.show()"
   ]
  },
  {
   "cell_type": "markdown",
   "metadata": {
    "application/vnd.databricks.v1+cell": {
     "cellMetadata": {},
     "inputWidgets": {},
     "nuid": "0abe934f-80de-4565-a74a-cfaed8175905",
     "showTitle": false,
     "title": ""
    }
   },
   "source": [
    "We can observe that the context is most likely to be returned as one of the first results, and most likely to be returned within the first 200-500 tokens."
   ]
  },
  {
   "cell_type": "code",
   "execution_count": 0,
   "metadata": {
    "application/vnd.databricks.v1+cell": {
     "cellMetadata": {},
     "inputWidgets": {},
     "nuid": "ac34e6d1-0a32-4cba-858b-ebd7db76ef6b",
     "showTitle": false,
     "title": ""
    }
   },
   "outputs": [],
   "source": [
    "# normalized value_counts\n",
    "out_expanded['rank'].value_counts(normalize=True).sort_index()[:13]"
   ]
  },
  {
   "cell_type": "markdown",
   "metadata": {
    "application/vnd.databricks.v1+cell": {
     "cellMetadata": {},
     "inputWidgets": {},
     "nuid": "1f0df20f-d28d-4aac-ba87-84f31832f1b4",
     "showTitle": false,
     "title": ""
    }
   },
   "source": [
    "probabilities of the relevant context being returned at each rank. (-2 means a processing error, -1 means the rank is >200)"
   ]
  }
 ],
 "metadata": {
  "application/vnd.databricks.v1+notebook": {
   "dashboards": [],
   "language": "python",
   "notebookMetadata": {},
   "notebookName": "olympics-2-create-qa",
   "notebookOrigID": 1572001650642555,
   "widgets": {}
  },
  "kernelspec": {
   "display_name": "Python 3.9.9 64-bit ('3.9.9')",
   "language": "python",
   "name": "python3"
  },
  "language_info": {
   "codemirror_mode": {
    "name": "ipython",
    "version": 3
   },
   "file_extension": ".py",
   "mimetype": "text/x-python",
   "name": "python",
   "nbconvert_exporter": "python",
   "pygments_lexer": "ipython3",
   "version": "3.9.9"
  },
  "orig_nbformat": 4,
  "vscode": {
   "interpreter": {
    "hash": "cb9817b186a29e4e9713184d901f26c1ee05ad25243d878baff7f31bb1fef480"
   }
  }
 },
 "nbformat": 4,
 "nbformat_minor": 0
}
